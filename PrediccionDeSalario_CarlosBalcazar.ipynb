{
 "cells": [
  {
   "cell_type": "markdown",
   "id": "fa634520",
   "metadata": {},
   "source": [
    "<a id='seccion-index'></a>\n",
    "<style>\n",
    "html {font-family: Tahoma;}\n",
    "</style>\n",
    "<span style=\"font-size:30px;\">Predicción de Salario\n",
    "</span><br><br>\n",
    "<span style=\"font-size:12px;font-family:Tahoma;color:#555;\">\n",
    "<b>Project info:</b><br>\n",
    "<td width=\"50%\"><table align=\"left\">\n",
    "    <tr><td><table align=\"left\">\n",
    "    <tr><td>Autor:</td><td style=\"text-align:left;color:#12408D;\">Carlos Balcazar / Johanna Bastidas / Josef Rodriguez</td></tr>\n",
    "    <tr><td>Last update:</td><td style=\"text-align:left\">15-07-2023 04:00</td></tr>\n",
    "    <tr><td>Dataset:</td><td style=\"text-align:left\">\n",
    "        <ul>\n",
    "            <li>salary.csv</li>\n",
    "        </ul>\n",
    "    <tr><td>Description:</td><td style=\"text-align:left\">Extracción fue realizada por Barry Becker de la base de datos del censo de 1994.<br/>32,561 Observaciones, 15 Atributos.</td></tr>\n",
    "    <tr><td>Content:</td><td style=\"text-align:left\">\n",
    "        <ul>\n",
    "            <li><a href=\"#seccion-0\">Configuración primaria.</a></li>\n",
    "            <li><a href=\"#seccion-1\">Análisis Exploratorio de Datos (EDA).</a></li>\n",
    "            <li><a href=\"#seccion-2\">Pre-procesamiento de datos.</a></li>\n",
    "            <li><a href=\"#seccion-3\">División de datos.</a></li>\n",
    "            <li><a href=\"#seccion-4\">Selección del Algoritmo.</a></li>\n",
    "            <li><a href=\"#seccion-5\">Entrenamiento del Modelo.</a></li>\n",
    "            <li><a href=\"#seccion-6\">Evaluación del Modelo.</a></li>\n",
    "        </ul>\n",
    "            </td></tr>\n",
    "    <tr><td> Module versions:</td><td style=\"text-align:left\">\n",
    "            + python       : 3.11.1<br>\n",
    "            + pandas       : 1.4.2<br>\n",
    "            + seaborn      : 0.11.2<br>\n",
    "            + sklearn      : 1.0.2</td></tr>    \n",
    "    <tr><td>Running on:</td><td style=\"text-align:left\">Google Cloud Platform - Dataproc<br/>n1-standard-2 (2 vCPU, 7.5 GB memory)</td></tr>       \n",
    " </table></td><td><img src=\"prediccion-de-salario.jpg\" /></td></tr>\n",
    "</table>\n",
    "</span> "
   ]
  },
  {
   "cell_type": "markdown",
   "id": "160c1030",
   "metadata": {},
   "source": [
    "<a id='seccion-0'></a>\n",
    "<div style=\"background:#04AA6D;color:#FFF;padding:10px;font-size:18px;font-weight:bold;\">CONFIGURACIÓN PRIMARIA</div>\n",
    "<a href=\"#seccion-index\">Ir al inicio</a>"
   ]
  },
  {
   "cell_type": "code",
   "execution_count": 1,
   "id": "46e12385",
   "metadata": {},
   "outputs": [],
   "source": [
    "# Importarmos librerias\n",
    "import os\n",
    "import pandas as pd\n",
    "import matplotlib.pyplot as plt\n",
    "import seaborn as sns\n",
    "from sklearn.preprocessing import LabelEncoder, StandardScaler\n",
    "from sklearn.impute import SimpleImputer\n",
    "from sklearn.ensemble import RandomForestClassifier\n",
    "from sklearn.model_selection import train_test_split\n",
    "from sklearn.metrics import accuracy_score"
   ]
  },
  {
   "cell_type": "code",
   "execution_count": 2,
   "id": "e842a89a",
   "metadata": {},
   "outputs": [],
   "source": [
    "# Definiendo el Workspace \n",
    "thisFilePath = os.getcwd()\n",
    "os.chdir(thisFilePath)"
   ]
  },
  {
   "cell_type": "code",
   "execution_count": 3,
   "id": "ea69c829",
   "metadata": {},
   "outputs": [],
   "source": [
    "# Cargando el Dataset\n",
    "filename = 'salary.csv'\n",
    "url = os.getcwd() + '\\\\' + filename\n",
    "df = pd.read_csv(url)"
   ]
  },
  {
   "cell_type": "markdown",
   "id": "32dcf882",
   "metadata": {},
   "source": [
    "<a id='seccion-1'></a>\n",
    "<div style=\"background:#04AA6D;color:#FFF;padding:10px;font-size:18px;font-weight:bold;\">ANÁLISIS EXPLORATORIO DE DATOS (EDA)</div>\n",
    "<a href=\"#seccion-index\">Ir al inicio</a>"
   ]
  },
  {
   "cell_type": "code",
   "execution_count": 4,
   "id": "aef98c1d",
   "metadata": {
    "scrolled": true
   },
   "outputs": [
    {
     "name": "stdout",
     "output_type": "stream",
     "text": [
      "   age          workclass  fnlwgt   education  education-num  \\\n",
      "0   39          State-gov   77516   Bachelors             13   \n",
      "1   50   Self-emp-not-inc   83311   Bachelors             13   \n",
      "2   38            Private  215646     HS-grad              9   \n",
      "3   53            Private  234721        11th              7   \n",
      "4   28            Private  338409   Bachelors             13   \n",
      "\n",
      "        marital-status          occupation    relationship    race      sex  \\\n",
      "0        Never-married        Adm-clerical   Not-in-family   White     Male   \n",
      "1   Married-civ-spouse     Exec-managerial         Husband   White     Male   \n",
      "2             Divorced   Handlers-cleaners   Not-in-family   White     Male   \n",
      "3   Married-civ-spouse   Handlers-cleaners         Husband   Black     Male   \n",
      "4   Married-civ-spouse      Prof-specialty            Wife   Black   Female   \n",
      "\n",
      "   capital-gain  capital-loss  hours-per-week  native-country  salary  \n",
      "0          2174             0              40   United-States   <=50K  \n",
      "1             0             0              13   United-States   <=50K  \n",
      "2             0             0              40   United-States   <=50K  \n",
      "3             0             0              40   United-States   <=50K  \n",
      "4             0             0              40            Cuba   <=50K  \n"
     ]
    }
   ],
   "source": [
    "# Mostrar las primeras filas\n",
    "print(df.head())"
   ]
  },
  {
   "cell_type": "code",
   "execution_count": 5,
   "id": "7693e3da",
   "metadata": {},
   "outputs": [
    {
     "name": "stdout",
     "output_type": "stream",
     "text": [
      "age                int64\n",
      "workclass         object\n",
      "fnlwgt             int64\n",
      "education         object\n",
      "education-num      int64\n",
      "marital-status    object\n",
      "occupation        object\n",
      "relationship      object\n",
      "race              object\n",
      "sex               object\n",
      "capital-gain       int64\n",
      "capital-loss       int64\n",
      "hours-per-week     int64\n",
      "native-country    object\n",
      "salary            object\n",
      "dtype: object\n"
     ]
    }
   ],
   "source": [
    "# Verificar los tipos de datos de cada columna\n",
    "print(df.dtypes)"
   ]
  },
  {
   "cell_type": "code",
   "execution_count": 6,
   "id": "62d078b6",
   "metadata": {
    "scrolled": true
   },
   "outputs": [
    {
     "name": "stdout",
     "output_type": "stream",
     "text": [
      "<class 'pandas.core.frame.DataFrame'>\n",
      "RangeIndex: 32561 entries, 0 to 32560\n",
      "Data columns (total 15 columns):\n",
      " #   Column          Non-Null Count  Dtype \n",
      "---  ------          --------------  ----- \n",
      " 0   age             32561 non-null  int64 \n",
      " 1   workclass       32561 non-null  object\n",
      " 2   fnlwgt          32561 non-null  int64 \n",
      " 3   education       32561 non-null  object\n",
      " 4   education-num   32561 non-null  int64 \n",
      " 5   marital-status  32561 non-null  object\n",
      " 6   occupation      32561 non-null  object\n",
      " 7   relationship    32561 non-null  object\n",
      " 8   race            32561 non-null  object\n",
      " 9   sex             32561 non-null  object\n",
      " 10  capital-gain    32561 non-null  int64 \n",
      " 11  capital-loss    32561 non-null  int64 \n",
      " 12  hours-per-week  32561 non-null  int64 \n",
      " 13  native-country  32561 non-null  object\n",
      " 14  salary          32561 non-null  object\n",
      "dtypes: int64(6), object(9)\n",
      "memory usage: 3.7+ MB\n"
     ]
    },
    {
     "data": {
      "text/plain": [
       "(32561, 15)"
      ]
     },
     "execution_count": 6,
     "metadata": {},
     "output_type": "execute_result"
    }
   ],
   "source": [
    "# Obtener información general\n",
    "df.info()\n",
    "df.shape"
   ]
  },
  {
   "cell_type": "code",
   "execution_count": 7,
   "id": "4c95645a",
   "metadata": {
    "scrolled": false
   },
   "outputs": [
    {
     "name": "stdout",
     "output_type": "stream",
     "text": [
      "                age        fnlwgt  education-num  capital-gain  capital-loss  \\\n",
      "count  32561.000000  3.256100e+04   32561.000000  32561.000000  32561.000000   \n",
      "mean      38.581647  1.897784e+05      10.080679   1077.648844     87.303830   \n",
      "std       13.640433  1.055500e+05       2.572720   7385.292085    402.960219   \n",
      "min       17.000000  1.228500e+04       1.000000      0.000000      0.000000   \n",
      "25%       28.000000  1.178270e+05       9.000000      0.000000      0.000000   \n",
      "50%       37.000000  1.783560e+05      10.000000      0.000000      0.000000   \n",
      "75%       48.000000  2.370510e+05      12.000000      0.000000      0.000000   \n",
      "max       90.000000  1.484705e+06      16.000000  99999.000000   4356.000000   \n",
      "\n",
      "       hours-per-week  \n",
      "count    32561.000000  \n",
      "mean        40.437456  \n",
      "std         12.347429  \n",
      "min          1.000000  \n",
      "25%         40.000000  \n",
      "50%         40.000000  \n",
      "75%         45.000000  \n",
      "max         99.000000  \n"
     ]
    }
   ],
   "source": [
    "# Estadísticas descriptivas de las variables numéricas\n",
    "print(df.describe())"
   ]
  },
  {
   "cell_type": "code",
   "execution_count": 8,
   "id": "076387f3",
   "metadata": {
    "scrolled": false
   },
   "outputs": [
    {
     "name": "stdout",
     "output_type": "stream",
     "text": [
      "age                  73\n",
      "workclass             9\n",
      "fnlwgt            21648\n",
      "education            16\n",
      "education-num        16\n",
      "marital-status        7\n",
      "occupation           15\n",
      "relationship          6\n",
      "race                  5\n",
      "sex                   2\n",
      "capital-gain        119\n",
      "capital-loss         92\n",
      "hours-per-week       94\n",
      "native-country       42\n",
      "salary                2\n",
      "dtype: int64\n"
     ]
    }
   ],
   "source": [
    "# Contar los valores únicos en cada columna\n",
    "print(df.nunique())"
   ]
  },
  {
   "cell_type": "code",
   "execution_count": 9,
   "id": "640c6519",
   "metadata": {},
   "outputs": [
    {
     "name": "stdout",
     "output_type": "stream",
     "text": [
      " <=50K    24720\n",
      " >50K      7841\n",
      "Name: salary, dtype: int64\n"
     ]
    }
   ],
   "source": [
    "# Contar los valores únicos en la columna 'salary'\n",
    "print(df['salary'].value_counts())"
   ]
  },
  {
   "cell_type": "code",
   "execution_count": 10,
   "id": "c8993d9d",
   "metadata": {
    "scrolled": true
   },
   "outputs": [
    {
     "name": "stderr",
     "output_type": "stream",
     "text": [
      "C:\\Users\\Carlos\\anaconda3\\lib\\site-packages\\seaborn\\_decorators.py:36: FutureWarning: Pass the following variable as a keyword arg: x. From version 0.12, the only valid positional argument will be `data`, and passing other arguments without an explicit keyword will result in an error or misinterpretation.\n",
      "  warnings.warn(\n",
      "C:\\Users\\Carlos\\anaconda3\\lib\\site-packages\\seaborn\\_decorators.py:36: FutureWarning: Pass the following variable as a keyword arg: x. From version 0.12, the only valid positional argument will be `data`, and passing other arguments without an explicit keyword will result in an error or misinterpretation.\n",
      "  warnings.warn(\n"
     ]
    },
    {
     "data": {
      "image/png": "[encoded data removed]",
      "text/plain": [
       "<Figure size 864x720 with 4 Axes>"
      ]
     },
     "metadata": {
      "needs_background": "light"
     },
     "output_type": "display_data"
    }
   ],
   "source": [
    "# Crear una figura y ejes para la tabla de gráficos\n",
    "fig, axes = plt.subplots(2, 2, figsize=(12, 10))\n",
    "\n",
    "# Gráfico 1: Histograma de la columna 'age'\n",
    "axes[0, 0].hist(df['age'], bins=20)\n",
    "axes[0, 0].set_xlabel('Age')\n",
    "axes[0, 0].set_ylabel('Frequency')\n",
    "axes[0, 0].set_title('Distribución de Edad')\n",
    "\n",
    "# Gráfico 2: Gráfico de barras de la columna 'education'\n",
    "sns.countplot(df['education'], ax=axes[0, 1])\n",
    "axes[0, 1].set_xticklabels(axes[0, 1].get_xticklabels(), rotation=45)\n",
    "axes[0, 1].set_xlabel('Education')\n",
    "axes[0, 1].set_ylabel('Count')\n",
    "axes[0, 1].set_title('Distribución de Educación')\n",
    "\n",
    "# Gráfico 3: Gráfico de barras de la columna 'sex'\n",
    "sns.countplot(df['sex'], ax=axes[1, 0])\n",
    "axes[1, 0].set_xlabel('Sex')\n",
    "axes[1, 0].set_ylabel('Count')\n",
    "axes[1, 0].set_title('Distribución de Sexo')\n",
    "\n",
    "# Gráfico 4: Gráfico de caja de la columna 'hours-per-week' agrupado por 'salary'\n",
    "sns.boxplot(x='salary', y='hours-per-week', data=df, ax=axes[1, 1])\n",
    "axes[1, 1].set_xlabel('Salary')\n",
    "axes[1, 1].set_ylabel('Hours per Week')\n",
    "axes[1, 1].set_title('Distribución de Horas Semanales por Salario')\n",
    "\n",
    "# Ajustar la disposición de los gráficos\n",
    "plt.tight_layout()\n",
    "\n",
    "# Mostrar la tabla de gráficos\n",
    "plt.show()"
   ]
  },
  {
   "cell_type": "code",
   "execution_count": 11,
   "id": "bc7ecf88",
   "metadata": {},
   "outputs": [
    {
     "data": {
      "image/png": "[encoded data removed]",
      "text/plain": [
       "<Figure size 432x288 with 2 Axes>"
      ]
     },
     "metadata": {
      "needs_background": "light"
     },
     "output_type": "display_data"
    }
   ],
   "source": [
    "# Matriz de correlación\n",
    "corr_matrix = df.corr()\n",
    "sns.heatmap(corr_matrix, annot=True, cmap='coolwarm')\n",
    "plt.title('Correlation Matrix')\n",
    "plt.show()"
   ]
  },
  {
   "cell_type": "markdown",
   "id": "91826708",
   "metadata": {},
   "source": [
    "<a id='seccion-2'></a>\n",
    "<div style=\"background:#04AA6D;color:#FFF;padding:10px;font-size:18px;font-weight:bold;\">PRE PROCESAMIENTO DE DATOS</div>\n",
    "<a href=\"#seccion-index\">Ir al inicio</a>"
   ]
  },
  {
   "cell_type": "code",
   "execution_count": 12,
   "id": "33816292",
   "metadata": {},
   "outputs": [],
   "source": [
    "# Dividir los datos en características (X) y variable objetivo (y)\n",
    "X = df.drop('salary', axis=1)\n",
    "y = df['salary']\n",
    "\n",
    "# Codificar variables categóricas\n",
    "categorical_cols = ['workclass', 'education', 'marital-status', 'occupation', 'relationship', 'race', 'sex', 'native-country']  \n",
    "label_encoder = LabelEncoder()\n",
    "for col in categorical_cols:\n",
    "    X[col] = label_encoder.fit_transform(X[col])\n",
    "    \n",
    "# Manejar los valores faltantes\n",
    "imputer = SimpleImputer(strategy='mean')\n",
    "X = pd.DataFrame(imputer.fit_transform(X), columns=X.columns)\n",
    "\n",
    "# Escalar características numéricas\n",
    "numeric_cols = ['age', 'fnlwgt', 'education-num', 'capital-gain', 'capital-loss', 'hours-per-week']\n",
    "scaler = StandardScaler()\n",
    "X[numeric_cols] = scaler.fit_transform(X[numeric_cols])    "
   ]
  },
  {
   "cell_type": "markdown",
   "id": "0b82664f",
   "metadata": {},
   "source": [
    "<a id='seccion-3'></a>\n",
    "<div style=\"background:#04AA6D;color:#FFF;padding:10px;font-size:18px;font-weight:bold;\">DIVISIÓN DE DATOS</div>\n",
    "<a href=\"#seccion-index\">Ir al inicio</a>"
   ]
  },
  {
   "cell_type": "code",
   "execution_count": 13,
   "id": "bb361423",
   "metadata": {},
   "outputs": [
    {
     "name": "stdout",
     "output_type": "stream",
     "text": [
      "Dimensiones de X_train: (26048, 14)\n",
      "Dimensiones de X_test: (6513, 14)\n",
      "Dimensiones de y_train: (26048,)\n",
      "Dimensiones de y_test: (6513,)\n"
     ]
    }
   ],
   "source": [
    "# Dividir los datos en conjuntos de entrenamiento y prueba\n",
    "X_train, X_test, y_train, y_test = train_test_split(X, y, test_size=0.2, random_state=42)\n",
    "\n",
    "# Imprimir información sobre los conjuntos de datos resultantes\n",
    "print(\"Dimensiones de X_train:\", X_train.shape)\n",
    "print(\"Dimensiones de X_test:\", X_test.shape)\n",
    "print(\"Dimensiones de y_train:\", y_train.shape)\n",
    "print(\"Dimensiones de y_test:\", y_test.shape)"
   ]
  },
  {
   "cell_type": "markdown",
   "id": "9de8b6be",
   "metadata": {},
   "source": [
    "<a id='seccion-4'></a>\n",
    "<div style=\"background:#04AA6D;color:#FFF;padding:10px;font-size:18px;font-weight:bold;\">SELECCIÓN DEL ALGORITMO</div>\n",
    "<a href=\"#seccion-index\">Ir al inicio</a>"
   ]
  },
  {
   "cell_type": "markdown",
   "id": "6c870bfb",
   "metadata": {},
   "source": [
    "<img src=\"random-forest.png\" />\n",
    "Como el conjunto de datos tiene características categóricas y numéricas, \n",
    "se ha considerado usar el algoritmo de Bosques Aleatorios (Random Forest). \n",
    "Este algoritmo es robusto, eficiente y maneja bien tanto las características categóricas como las numéricas. \n",
    "También pueden manejar datos desbalanceados y son menos propensos al sobreajuste \n",
    "en comparación con otros algoritmos de clasificación."
   ]
  },
  {
   "cell_type": "markdown",
   "id": "293ba895",
   "metadata": {},
   "source": [
    "<a id='seccion-5'></a>\n",
    "<div style=\"background:#04AA6D;color:#FFF;padding:10px;font-size:18px;font-weight:bold;\">ENTRENAMIENTO DEL MODELO</div>\n",
    "<a href=\"#seccion-index\">Ir al inicio</a>"
   ]
  },
  {
   "cell_type": "code",
   "execution_count": 14,
   "id": "d65bfc11",
   "metadata": {},
   "outputs": [
    {
     "data": {
      "text/plain": [
       "RandomForestClassifier(random_state=42)"
      ]
     },
     "execution_count": 14,
     "metadata": {},
     "output_type": "execute_result"
    }
   ],
   "source": [
    "# Crear y entrenar el modelo de Random Forest\n",
    "model = RandomForestClassifier(n_estimators=100, random_state=42)\n",
    "model.fit(X_train, y_train)"
   ]
  },
  {
   "cell_type": "markdown",
   "id": "6789aae6",
   "metadata": {},
   "source": [
    "<a id='seccion-6'></a>\n",
    "<div style=\"background:#04AA6D;color:#FFF;padding:10px;font-size:18px;font-weight:bold;\">EVALUACIÓN DEL MODELO</div>\n",
    "<a href=\"#seccion-index\">Ir al inicio</a>"
   ]
  },
  {
   "cell_type": "code",
   "execution_count": 15,
   "id": "12084740",
   "metadata": {},
   "outputs": [
    {
     "name": "stdout",
     "output_type": "stream",
     "text": [
      "Precisión del modelo: 86.23%\n"
     ]
    }
   ],
   "source": [
    "# Realizar predicciones en el conjunto de prueba\n",
    "y_pred = model.predict(X_test)\n",
    "\n",
    "# Calcular la precisión del modelo\n",
    "accuracy = accuracy_score(y_test, y_pred)\n",
    "print(\"Precisión del modelo: {:.2f}%\".format(accuracy * 100))"
   ]
  },
  {
   "cell_type": "markdown",
   "id": "6c24b8e9",
   "metadata": {},
   "source": [
    "El modelo alcanzó una precisión del 86.23%, lo cual indica que es capaz de realizar predicciones correctas en la mayoría de los casos. Esto significa que el modelo aprendió patrones importantes en los datos y puede ser útil en aplicaciones prácticas que requieren clasificación. Aunque tiene margen para mejorar, supera el azar y puede ayudar en la toma de decisiones."
   ]
  }
 ],
 "metadata": {
  "kernelspec": {
   "display_name": "Python 3 (ipykernel)",
   "language": "python",
   "name": "python3"
  },
  "language_info": {
   "codemirror_mode": {
    "name": "ipython",
    "version": 3
   },
   "file_extension": ".py",
   "mimetype": "text/x-python",
   "name": "python",
   "nbconvert_exporter": "python",
   "pygments_lexer": "ipython3",
   "version": "3.9.12"
  }
 },
 "nbformat": 4,
 "nbformat_minor": 5
}
